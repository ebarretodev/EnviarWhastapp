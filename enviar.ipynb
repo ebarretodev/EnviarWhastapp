{
 "cells": [
  {
   "cell_type": "markdown",
   "metadata": {},
   "source": [
    "# Código para automação de envio de mensagens com whatsapp\n",
    "\n",
    "Necessário instalar:\n",
    "1. Pandas, Selenium, urrlib\n",
    "2. Arquivo excel do whatsapp com os dados de quem quer enviar\n",
    "3. Selenium"
   ]
  },
  {
   "cell_type": "markdown",
   "metadata": {},
   "source": [
    "## 1. Inserir as libs que serão usadas"
   ]
  },
  {
   "cell_type": "code",
   "execution_count": 10,
   "metadata": {},
   "outputs": [],
   "source": [
    "# usado para controle dos arquivos\n",
    "import pandas as pd\n",
    "\n",
    "# usado para fazer pausas no programa\n",
    "import time\n",
    "\n",
    "# usado para controlar o navegador\n",
    "from selenium import webdriver\n",
    "from selenium.webdriver.common.keys import Keys\n",
    "from selenium.webdriver.common.by import By\n",
    "import urllib\n"
   ]
  },
  {
   "cell_type": "markdown",
   "metadata": {},
   "source": [
    "## Selecionar a tabela que iremos usar\n",
    "Considere usar o arquivo exemplo na mesma pasta deste arquivo. Não se esqueça de remover o texto **\"Exemplo\"** do nome do arquivo. Insira os nomes e telefones como você desejar."
   ]
  },
  {
   "cell_type": "code",
   "execution_count": 6,
   "metadata": {},
   "outputs": [
    {
     "data": {
      "text/html": [
       "<div>\n",
       "<style scoped>\n",
       "    .dataframe tbody tr th:only-of-type {\n",
       "        vertical-align: middle;\n",
       "    }\n",
       "\n",
       "    .dataframe tbody tr th {\n",
       "        vertical-align: top;\n",
       "    }\n",
       "\n",
       "    .dataframe thead th {\n",
       "        text-align: right;\n",
       "    }\n",
       "</style>\n",
       "<table border=\"1\" class=\"dataframe\">\n",
       "  <thead>\n",
       "    <tr style=\"text-align: right;\">\n",
       "      <th></th>\n",
       "      <th>Pessoa</th>\n",
       "      <th>Número</th>\n",
       "      <th>Mensagem</th>\n",
       "    </tr>\n",
       "  </thead>\n",
       "  <tbody>\n",
       "    <tr>\n",
       "      <th>0</th>\n",
       "      <td>Eu mesmo</td>\n",
       "      <td>5511985255559</td>\n",
       "      <td>Sou foda demais</td>\n",
       "    </tr>\n",
       "    <tr>\n",
       "      <th>1</th>\n",
       "      <td>Thainara</td>\n",
       "      <td>5511951471504</td>\n",
       "      <td>Oi Bebe, te amo</td>\n",
       "    </tr>\n",
       "    <tr>\n",
       "      <th>2</th>\n",
       "      <td>Debriscio</td>\n",
       "      <td>5511962442883</td>\n",
       "      <td>Fala man, tudo bom? Mensagem automática</td>\n",
       "    </tr>\n",
       "  </tbody>\n",
       "</table>\n",
       "</div>"
      ],
      "text/plain": [
       "      Pessoa         Número                                 Mensagem\n",
       "0   Eu mesmo  5511985255559                          Sou foda demais\n",
       "1   Thainara  5511951471504                          Oi Bebe, te amo\n",
       "2  Debriscio  5511962442883  Fala man, tudo bom? Mensagem automática"
      ]
     },
     "metadata": {},
     "output_type": "display_data"
    }
   ],
   "source": [
    "contatos_df = pd.read_excel(\"ContatosEnviar.xlsx\")\n",
    "display(contatos_df)"
   ]
  },
  {
   "cell_type": "markdown",
   "metadata": {},
   "source": [
    "## Iremos carregar o navegador que será usado pelo whatsApp"
   ]
  },
  {
   "cell_type": "code",
   "execution_count": 9,
   "metadata": {},
   "outputs": [
    {
     "data": {
      "text/plain": [
       "'Login feito'"
      ]
     },
     "metadata": {},
     "output_type": "display_data"
    }
   ],
   "source": [
    "# carregamento do whatsapp web\n",
    "navegador = webdriver.Chrome()\n",
    "navegador.get(\"https://web.whatsapp.com/\")\n",
    "\n",
    "# espera aparecer o elemento que tem id de \"side\"\n",
    "while len(navegador.find_elements(By.ID ,\"side\")) < 1 :\n",
    "    time.sleep(1)\n",
    "\n",
    "display(\"Login feito\")"
   ]
  },
  {
   "cell_type": "markdown",
   "metadata": {},
   "source": [
    "## Tratar os dados da tabela"
   ]
  },
  {
   "cell_type": "code",
   "execution_count": 17,
   "metadata": {},
   "outputs": [],
   "source": [
    "# pego todos os dados na tabela com o for\n",
    "for i, pessoa in enumerate(contatos_df['Pessoa']):\n",
    "    mensagem = contatos_df.loc[i, \"Mensagem\"]\n",
    "    numero = contatos_df.loc[i, \"Número\"]\n",
    "    # defino qual sera o texto e converto para url encode\n",
    "    texto = urllib.parse.quote(f\"Oi {pessoa}! {mensagem}\")\n",
    "    #crio o link de navegação\n",
    "    link = f\"https://web.whatsapp.com/send?phone={numero}&text={texto}\"\n",
    "    # vou até o link de envio\n",
    "    navegador.get(link)\n",
    "\n",
    "    # espera aparecer o elemento que tem id de \"side\"\n",
    "    while len(navegador.find_elements(By.ID ,\"side\")) < 1 :\n",
    "        time.sleep(1)\n",
    "\n",
    "    # xpath do campo que tem que apertar enter\n",
    "    # //*[@id=\"main\"]/footer/div[1]/div/span[2]/div/div[2]/div[1]/div/div/p\n",
    "    navegador.find_element(By.XPATH, '//*[@id=\"main\"]/footer/div[1]/div/span[2]/div/div[2]/div[1]/div/div/p').send_keys(Keys.ENTER)\n",
    "    time.sleep(10)"
   ]
  }
 ],
 "metadata": {
  "kernelspec": {
   "display_name": "Python 3",
   "language": "python",
   "name": "python3"
  },
  "language_info": {
   "codemirror_mode": {
    "name": "ipython",
    "version": 3
   },
   "file_extension": ".py",
   "mimetype": "text/x-python",
   "name": "python",
   "nbconvert_exporter": "python",
   "pygments_lexer": "ipython3",
   "version": "3.11.4"
  }
 },
 "nbformat": 4,
 "nbformat_minor": 2
}
